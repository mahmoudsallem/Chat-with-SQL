{
 "cells": [
  {
   "cell_type": "code",
   "execution_count": 1,
   "metadata": {},
   "outputs": [],
   "source": [
    "from dotenv import load_dotenv\n",
    "load_dotenv() ## load all the environemnt variables\n",
    "import os\n",
    "import sqlite3\n"
   ]
  },
  {
   "cell_type": "code",
   "execution_count": 2,
   "metadata": {},
   "outputs": [],
   "source": [
    "import google.generativeai as genai\n",
    "## Configure Genai Key\n",
    "\n",
    "genai.configure(api_key=os.getenv(\"GOOGLE_API_KEY\"))\n"
   ]
  },
  {
   "cell_type": "code",
   "execution_count": 3,
   "metadata": {},
   "outputs": [
    {
     "name": "stdout",
     "output_type": "stream",
     "text": [
      "(19858.912277212195,)\n",
      "[(19858.912277212195,)]\n"
     ]
    }
   ],
   "source": [
    "from langchain.sql_database import SQLDatabase\n",
    "import sqlite3\n",
    "\n",
    "# Creating SQLDatabase instance\n",
    "db = SQLDatabase.from_uri(\"sqlite:///travel.sqlite\")\n",
    "\n",
    "# Direct connection to SQLite database without using langchain object\n",
    "conn = sqlite3.connect(\"travel.sqlite\")  # Just pass the file path/URI\n",
    "cur = conn.cursor()\n",
    "\n",
    "# Assuming 'sql' contains your SQL query\n",
    "# cur.execute(\"SELECT * FROM sqlite_master\")\n",
    "\n",
    "cur.execute('SELECT AVG(amount) FROM ticket_flights;')\n",
    "\n",
    "rows = cur.fetchall()\n",
    "\n",
    "conn.commit()\n",
    "conn.close()\n",
    "\n",
    "for row in rows:\n",
    "    print(row)\n",
    "\n",
    "# The rows variable is already populated from the cursor\n",
    "print(rows)\n"
   ]
  },
  {
   "cell_type": "code",
   "execution_count": 4,
   "metadata": {},
   "outputs": [],
   "source": [
    "def read_sql_query(sql,db):\n",
    "    conn=sqlite3.connect(db)\n",
    "    cur=conn.cursor()\n",
    "    cur.execute(sql)\n",
    "    rows=cur.fetchall()\n",
    "    conn.commit()\n",
    "    conn.close()\n",
    "    for row in rows:\n",
    "        print(row)\n",
    "    return rows"
   ]
  },
  {
   "cell_type": "code",
   "execution_count": 5,
   "metadata": {},
   "outputs": [],
   "source": [
    "## Define Your Prompt\n",
    "prompt=[\n",
    "    \"\"\"\n",
    "    You are an expert in converting English questions to SQL query!\n",
    "    The SQL database has the name STUDENT and has the following columns - NAME, CLASS, \n",
    "    SECTION \\n\\nFor example,\\nExample 1 - How many entries of records are present?, \n",
    "    the SQL command will be something like this SELECT COUNT(*) FROM STUDENT ;\n",
    "    \\nExample 2 - Tell me all the students studying in Data Science class?, \n",
    "    the SQL command will be something like this SELECT * FROM STUDENT \n",
    "    where CLASS=\"Data Science\"; \n",
    "    also the sql code should not have ``` in beginning or end and sql word in output\n",
    "\n",
    "    \"\"\"\n",
    "]\n"
   ]
  },
  {
   "cell_type": "code",
   "execution_count": 6,
   "metadata": {},
   "outputs": [],
   "source": [
    "question = \"What is the avrage amount from ticket_flights\""
   ]
  },
  {
   "cell_type": "code",
   "execution_count": 7,
   "metadata": {},
   "outputs": [
    {
     "data": {
      "text/plain": [
       "'SELECT AVG(amount) FROM ticket_flights;'"
      ]
     },
     "execution_count": 7,
     "metadata": {},
     "output_type": "execute_result"
    }
   ],
   "source": [
    "model=genai.GenerativeModel('gemini-pro')\n",
    "response=model.generate_content([prompt[0],question])\n",
    "response.text"
   ]
  },
  {
   "cell_type": "code",
   "execution_count": 8,
   "metadata": {},
   "outputs": [
    {
     "name": "stdout",
     "output_type": "stream",
     "text": [
      "(19858.912277212195,)\n"
     ]
    }
   ],
   "source": [
    "response=read_sql_query(response.text,\"travel.sqlite\")"
   ]
  }
 ],
 "metadata": {
  "kernelspec": {
   "display_name": "lunfgraph",
   "language": "python",
   "name": "python3"
  },
  "language_info": {
   "codemirror_mode": {
    "name": "ipython",
    "version": 3
   },
   "file_extension": ".py",
   "mimetype": "text/x-python",
   "name": "python",
   "nbconvert_exporter": "python",
   "pygments_lexer": "ipython3",
   "version": "3.9.0"
  }
 },
 "nbformat": 4,
 "nbformat_minor": 2
}
