{
 "cells": [
  {
   "cell_type": "code",
   "execution_count": null,
   "metadata": {},
   "outputs": [
    {
     "name": "stderr",
     "output_type": "stream",
     "text": [
      "/home/mahmoud/anaconda3/envs/lunfgraph/lib/python3.9/site-packages/langchain_openai/chat_models/__init__.py:1: LangChainDeprecationWarning: As of langchain-core 0.3.0, LangChain uses pydantic v2 internally. The langchain_core.pydantic_v1 module was a compatibility shim for pydantic v1, and should no longer be used. Please update the code to import from Pydantic directly.\n",
      "\n",
      "For example, replace imports like: `from langchain_core.pydantic_v1 import BaseModel`\n",
      "with: `from pydantic import BaseModel`\n",
      "or the v1 compatibility namespace if you are working in a code base that has not been fully upgraded to pydantic 2 yet. \tfrom pydantic.v1 import BaseModel\n",
      "\n",
      "  from langchain_openai.chat_models.azure import AzureChatOpenAI\n",
      "/home/mahmoud/anaconda3/envs/lunfgraph/lib/python3.9/site-packages/pydantic/_internal/_config.py:341: UserWarning: Valid config keys have changed in V2:\n",
      "* 'allow_population_by_field_name' has been renamed to 'populate_by_name'\n",
      "  warnings.warn(message, UserWarning)\n"
     ]
    },
    {
     "data": {
      "text/plain": [
       "True"
      ]
     },
     "execution_count": 2,
     "metadata": {},
     "output_type": "execute_result"
    }
   ],
   "source": [
    "from langchain.sql_database import SQLDatabase\n",
    "from langchain_groq import ChatGroq\n",
    "from langchain_community.utilities import SQLDatabase\n",
    "from langchain_core.prompts import PromptTemplate\n",
    "from langchain_core.tools import tool\n",
    "from pprint import pprint\n",
    "from typing_extensions import TypedDict\n",
    "\n",
    "import os\n",
    "from dotenv import load_dotenv\n"
   ]
  },
  {
   "cell_type": "code",
   "execution_count": 4,
   "metadata": {},
   "outputs": [],
   "source": [
    "if not os.environ.get(\"GROQ_API_KEY\"):\n",
    "  os.environ[\"GROQ_API_KEY\"] = os.environ.get(\"GROQ_API_KEY\")"
   ]
  },
  {
   "cell_type": "code",
   "execution_count": 5,
   "metadata": {},
   "outputs": [],
   "source": [
    "from langchain_groq import ChatGroq\n",
    "\n",
    "llm = ChatGroq(model=\"llama3-8b-8192\")"
   ]
  },
  {
   "cell_type": "code",
   "execution_count": 6,
   "metadata": {},
   "outputs": [
    {
     "name": "stderr",
     "output_type": "stream",
     "text": [
      "/home/mahmoud/anaconda3/envs/lunfgraph/lib/python3.9/site-packages/langsmith/client.py:241: LangSmithMissingAPIKeyWarning: API key must be provided when using hosted LangSmith API\n",
      "  warnings.warn(\n"
     ]
    },
    {
     "name": "stdout",
     "output_type": "stream",
     "text": [
      "================================\u001b[1m System Message \u001b[0m================================\n",
      "\n",
      "Given an input question, create a syntactically correct \u001b[33;1m\u001b[1;3m{dialect}\u001b[0m query to run to help find the answer. Unless the user specifies in his question a specific number of examples they wish to obtain, always limit your query to at most \u001b[33;1m\u001b[1;3m{top_k}\u001b[0m results. You can order the results by a relevant column to return the most interesting examples in the database.\n",
      "\n",
      "Never query for all the columns from a specific table, only ask for a the few relevant columns given the question.\n",
      "\n",
      "Pay attention to use only the column names that you can see in the schema description. Be careful to not query for columns that do not exist. Also, pay attention to which column is in which table.\n",
      "\n",
      "Only use the following tables:\n",
      "\u001b[33;1m\u001b[1;3m{table_info}\u001b[0m\n",
      "\n",
      "Question: \u001b[33;1m\u001b[1;3m{input}\u001b[0m\n"
     ]
    }
   ],
   "source": [
    "from langchain import hub\n",
    "\n",
    "query_prompt_template = hub.pull(\"langchain-ai/sql-query-system-prompt\")\n",
    "\n",
    "assert len(query_prompt_template.messages) == 1\n",
    "query_prompt_template.messages[0].pretty_print()"
   ]
  },
  {
   "cell_type": "code",
   "execution_count": 7,
   "metadata": {},
   "outputs": [
    {
     "name": "stdout",
     "output_type": "stream",
     "text": [
      "sqlite\n",
      "['aircrafts_data', 'airports_data', 'boarding_passes', 'bookings', 'flights', 'seats', 'ticket_flights', 'tickets']\n"
     ]
    },
    {
     "data": {
      "text/plain": [
       "'[(\\'YKS\\', \\'{\"en\": \"Yakutsk Airport\", \"ru\": \"Якутск\"}\\', \\'{\"en\": \"Yakutsk\", \"ru\": \"Якутск\"}\\', \\'(129.77099609375,62.0932998657226562)\\', \\'Asia/Yakutsk\\'), (\\'MJZ\\', \\'{\"en\": \"Mirny Airport\", \"ru\": \"Мирный\"}\\', \\'{\"en\": \"Mirnyj\", \"ru\": \"Мирный\"}\\', \\'(114.03900146484375,62.534698486328125)\\', \\'Asia/Yakutsk\\'), (\\'KHV\\', \\'{\"en\": \"Khabarovsk-Novy Airport\", \"ru\": \"Хабаровск-Новый\"}\\', \\'{\"en\": \"Khabarovsk\", \"ru\": \"Хабаровск\"}\\', \\'(135.18800354004,48.5279998779300001)\\', \\'Asia/Vladivostok\\'), (\\'PKC\\', \\'{\"en\": \"Yelizovo Airport\", \"ru\": \"Елизово\"}\\', \\'{\"en\": \"Petropavlovsk\", \"ru\": \"Петропавловск-Камчатский\"}\\', \\'(158.453994750976562,53.1679000854492188)\\', \\'Asia/Kamchatka\\'), (\\'UUS\\', \\'{\"en\": \"Yuzhno-Sakhalinsk Airport\", \"ru\": \"Хомутово\"}\\', \\'{\"en\": \"Yuzhno-Sakhalinsk\", \"ru\": \"Южно-Сахалинск\"}\\', \\'(142.718002319335938,46.8886985778808594)\\', \\'Asia/Sakhalin\\'), (\\'VVO\\', \\'{\"en\": \"Vladivostok International Airport\", \"ru\": \"Владивосток\"}\\', \\'{\"en\": \"Vladivostok\", \"ru\": \"Владивосток\"}\\', \\'(132.147994995117188,43.3989982604980469)\\', \\'Asia/Vladivostok\\'), (\\'LED\\', \\'{\"en\": \"Pulkovo Airport\", \"ru\": \"Пулково\"}\\', \\'{\"en\": \"St. Petersburg\", \"ru\": \"Санкт-Петербург\"}\\', \\'(30.2625007629394531,59.8003005981445312)\\', \\'Europe/Moscow\\'), (\\'KGD\\', \\'{\"en\": \"Khrabrovo Airport\", \"ru\": \"Храброво\"}\\', \\'{\"en\": \"Kaliningrad\", \"ru\": \"Калининград\"}\\', \\'(20.5925998687744141,54.8899993896484375)\\', \\'Europe/Kaliningrad\\'), (\\'KEJ\\', \\'{\"en\": \"Kemerovo Airport\", \"ru\": \"Кемерово\"}\\', \\'{\"en\": \"Kemorovo\", \"ru\": \"Кемерово\"}\\', \\'(86.1072006225585938,55.2700996398925781)\\', \\'Asia/Novokuznetsk\\'), (\\'CEK\\', \\'{\"en\": \"Chelyabinsk Balandino Airport\", \"ru\": \"Челябинск\"}\\', \\'{\"en\": \"Chelyabinsk\", \"ru\": \"Челябинск\"}\\', \\'(61.503300000000003,55.3058010000000024)\\', \\'Asia/Yekaterinburg\\')]'"
      ]
     },
     "execution_count": 7,
     "metadata": {},
     "output_type": "execute_result"
    }
   ],
   "source": [
    "from langchain_community.utilities import SQLDatabase\n",
    "\n",
    "db = SQLDatabase.from_uri(\"sqlite:///travel.sqlite\")\n",
    "print(db.dialect)\n",
    "print(db.get_usable_table_names())\n",
    "db.run(\"SELECT * FROM airports_data LIMIT 10;\")"
   ]
  },
  {
   "cell_type": "code",
   "execution_count": 18,
   "metadata": {},
   "outputs": [
    {
     "data": {
      "text/plain": [
       "[QuerySQLDatabaseTool(description=\"Input to this tool is a detailed and correct SQL query, output is a result from the database. If the query is not correct, an error message will be returned. If an error is returned, rewrite the query, check the query, and try again. If you encounter an issue with Unknown column 'xxxx' in 'field list', use sql_db_schema to query the correct table fields.\", db=<langchain_community.utilities.sql_database.SQLDatabase object at 0x7f7a22dd8af0>),\n",
       " InfoSQLDatabaseTool(description='Input to this tool is a comma-separated list of tables, output is the schema and sample rows for those tables. Be sure that the tables actually exist by calling sql_db_list_tables first! Example Input: table1, table2, table3', db=<langchain_community.utilities.sql_database.SQLDatabase object at 0x7f7a22dd8af0>),\n",
       " ListSQLDatabaseTool(db=<langchain_community.utilities.sql_database.SQLDatabase object at 0x7f7a22dd8af0>),\n",
       " QuerySQLCheckerTool(description='Use this tool to double check if your query is correct before executing it. Always use this tool before executing a query with sql_db_query!', db=<langchain_community.utilities.sql_database.SQLDatabase object at 0x7f7a22dd8af0>, llm=ChatGroq(client=<groq.resources.chat.completions.Completions object at 0x7f7a22dcf3d0>, async_client=<groq.resources.chat.completions.AsyncCompletions object at 0x7f7a22dd80d0>, model_name='llama3-8b-8192', model_kwargs={}, groq_api_key=SecretStr('**********')), llm_chain=LLMChain(verbose=False, prompt=PromptTemplate(input_variables=['dialect', 'query'], input_types={}, partial_variables={}, template='\\n{query}\\nDouble check the {dialect} query above for common mistakes, including:\\n- Using NOT IN with NULL values\\n- Using UNION when UNION ALL should have been used\\n- Using BETWEEN for exclusive ranges\\n- Data type mismatch in predicates\\n- Properly quoting identifiers\\n- Using the correct number of arguments for functions\\n- Casting to the correct data type\\n- Using the proper columns for joins\\n\\nIf there are any of the above mistakes, rewrite the query. If there are no mistakes, just reproduce the original query.\\n\\nOutput the final SQL query only.\\n\\nSQL Query: '), llm=ChatGroq(client=<groq.resources.chat.completions.Completions object at 0x7f7a22dcf3d0>, async_client=<groq.resources.chat.completions.AsyncCompletions object at 0x7f7a22dd80d0>, model_name='llama3-8b-8192', model_kwargs={}, groq_api_key=SecretStr('**********')), output_parser=StrOutputParser(), llm_kwargs={}))]"
      ]
     },
     "execution_count": 18,
     "metadata": {},
     "output_type": "execute_result"
    }
   ],
   "source": [
    "from langchain_community.agent_toolkits import SQLDatabaseToolkit\n",
    "\n",
    "toolkit = SQLDatabaseToolkit(db=db, llm=llm)\n",
    "\n",
    "tools = toolkit.get_tools()\n",
    "\n",
    "tools"
   ]
  },
  {
   "cell_type": "code",
   "execution_count": 19,
   "metadata": {},
   "outputs": [
    {
     "name": "stderr",
     "output_type": "stream",
     "text": [
      "/home/mahmoud/anaconda3/envs/lunfgraph/lib/python3.9/site-packages/langsmith/client.py:241: LangSmithMissingAPIKeyWarning: API key must be provided when using hosted LangSmith API\n",
      "  warnings.warn(\n"
     ]
    },
    {
     "name": "stdout",
     "output_type": "stream",
     "text": [
      "================================\u001b[1m System Message \u001b[0m================================\n",
      "\n",
      "You are an agent designed to interact with a SQL database.\n",
      "Given an input question, create a syntactically correct \u001b[33;1m\u001b[1;3m{dialect}\u001b[0m query to run, then look at the results of the query and return the answer.\n",
      "Unless the user specifies a specific number of examples they wish to obtain, always limit your query to at most \u001b[33;1m\u001b[1;3m{top_k}\u001b[0m results.\n",
      "You can order the results by a relevant column to return the most interesting examples in the database.\n",
      "Never query for all the columns from a specific table, only ask for the relevant columns given the question.\n",
      "You have access to tools for interacting with the database.\n",
      "Only use the below tools. Only use the information returned by the below tools to construct your final answer.\n",
      "You MUST double check your query before executing it. If you get an error while executing a query, rewrite the query and try again.\n",
      "\n",
      "DO NOT make any DML statements (INSERT, UPDATE, DELETE, DROP etc.) to the database.\n",
      "\n",
      "To start you should ALWAYS look at the tables in the database to see what you can query.\n",
      "Do NOT skip this step.\n",
      "Then you should query the schema of the most relevant tables.\n"
     ]
    }
   ],
   "source": [
    "from langchain import hub\n",
    "\n",
    "prompt_template = hub.pull(\"langchain-ai/sql-agent-system-prompt\")\n",
    "\n",
    "assert len(prompt_template.messages) == 1\n",
    "prompt_template.messages[0].pretty_print()"
   ]
  },
  {
   "cell_type": "code",
   "execution_count": 20,
   "metadata": {},
   "outputs": [],
   "source": [
    "system_message = prompt_template.format(dialect=\"SQLite\", top_k=5)"
   ]
  },
  {
   "cell_type": "code",
   "execution_count": 21,
   "metadata": {},
   "outputs": [],
   "source": [
    "from langchain_core.messages import HumanMessage\n",
    "from langgraph.prebuilt import create_react_agent\n",
    "\n",
    "agent_executor = create_react_agent(llm, tools, state_modifier=system_message)"
   ]
  },
  {
   "cell_type": "code",
   "execution_count": 25,
   "metadata": {},
   "outputs": [
    {
     "name": "stdout",
     "output_type": "stream",
     "text": [
      "================================\u001b[1m Human Message \u001b[0m=================================\n",
      "\n",
      "what is the name of tables ?\n",
      "==================================\u001b[1m Ai Message \u001b[0m==================================\n",
      "Tool Calls:\n",
      "  sql_db_list_tables (call_ngrm)\n",
      " Call ID: call_ngrm\n",
      "  Args:\n",
      "    tool_input:\n",
      "=================================\u001b[1m Tool Message \u001b[0m=================================\n",
      "Name: sql_db_list_tables\n",
      "\n",
      "aircrafts_data, airports_data, boarding_passes, bookings, flights, seats, ticket_flights, tickets\n",
      "==================================\u001b[1m Ai Message \u001b[0m==================================\n",
      "Tool Calls:\n",
      "  sql_db_schema (call_sde4)\n",
      " Call ID: call_sde4\n",
      "  Args:\n",
      "    table_names: aircrafts_data, airports_data\n",
      "=================================\u001b[1m Tool Message \u001b[0m=================================\n",
      "Name: sql_db_schema\n",
      "\n",
      "Error: TypeError('must be real number, not str')\n",
      " Please fix your mistakes.\n",
      "==================================\u001b[1m Ai Message \u001b[0m==================================\n",
      "Tool Calls:\n",
      "  sql_db_schema (call_bb41)\n",
      " Call ID: call_bb41\n",
      "  Args:\n",
      "    table_names: 'aircrafts_data, airports_data'\n",
      "=================================\u001b[1m Tool Message \u001b[0m=================================\n",
      "Name: sql_db_schema\n",
      "\n",
      "Error: table_names {\"'aircrafts_data\", \"airports_data'\"} not found in database\n",
      "==================================\u001b[1m Ai Message \u001b[0m==================================\n",
      "Tool Calls:\n",
      "  sql_db_list_tables (call_03yq)\n",
      " Call ID: call_03yq\n",
      "  Args:\n",
      "    tool_input:\n",
      "=================================\u001b[1m Tool Message \u001b[0m=================================\n",
      "Name: sql_db_list_tables\n",
      "\n",
      "aircrafts_data, airports_data, boarding_passes, bookings, flights, seats, ticket_flights, tickets\n",
      "==================================\u001b[1m Ai Message \u001b[0m==================================\n",
      "Tool Calls:\n",
      "  sql_db_schema (call_fjqb)\n",
      " Call ID: call_fjqb\n",
      "  Args:\n",
      "    table_names: flights, bookings\n",
      "=================================\u001b[1m Tool Message \u001b[0m=================================\n",
      "Name: sql_db_schema\n",
      "\n",
      "Error: TypeError('must be real number, not str')\n",
      " Please fix your mistakes.\n",
      "==================================\u001b[1m Ai Message \u001b[0m==================================\n",
      "Tool Calls:\n",
      "  sql_db_schema (call_rmz2)\n",
      " Call ID: call_rmz2\n",
      "  Args:\n",
      "    table_names: \"flights\",\"bookings\"\n",
      "=================================\u001b[1m Tool Message \u001b[0m=================================\n",
      "Name: sql_db_schema\n",
      "\n",
      "Error: table_names {'\"flights\"', '\"bookings\"'} not found in database\n",
      "==================================\u001b[1m Ai Message \u001b[0m==================================\n",
      "Tool Calls:\n",
      "  sql_db_list_tables (call_c6cv)\n",
      " Call ID: call_c6cv\n",
      "  Args:\n",
      "    tool_input:\n",
      "=================================\u001b[1m Tool Message \u001b[0m=================================\n",
      "Name: sql_db_list_tables\n",
      "\n",
      "aircrafts_data, airports_data, boarding_passes, bookings, flights, seats, ticket_flights, tickets\n",
      "==================================\u001b[1m Ai Message \u001b[0m==================================\n",
      "Tool Calls:\n",
      "  sql_db_query (call_zv48)\n",
      " Call ID: call_zv48\n",
      "  Args:\n",
      "    query: SELECT * FROM flights LIMIT 5\n",
      "=================================\u001b[1m Tool Message \u001b[0m=================================\n",
      "Name: sql_db_query\n",
      "\n",
      "[(1185, 'PG0134', '2017-09-10 09:50:00+03', '2017-09-10 14:55:00+03', 'DME', 'BTK', 'Scheduled', '319', '\\\\N', '\\\\N'), (3979, 'PG0052', '2017-08-25 14:50:00+03', '2017-08-25 17:35:00+03', 'VKO', 'HMA', 'Scheduled', 'CR2', '\\\\N', '\\\\N'), (4739, 'PG0561', '2017-09-05 12:30:00+03', '2017-09-05 14:15:00+03', 'VKO', 'AER', 'Scheduled', '763', '\\\\N', '\\\\N'), (5502, 'PG0529', '2017-09-12 09:50:00+03', '2017-09-12 11:20:00+03', 'SVO', 'UFA', 'Scheduled', '763', '\\\\N', '\\\\N'), (6938, 'PG0461', '2017-09-04 12:25:00+03', '2017-09-04 13:20:00+03', 'SVO', 'ULV', 'Scheduled', 'SU9', '\\\\N', '\\\\N')]\n",
      "==================================\u001b[1m Ai Message \u001b[0m==================================\n",
      "\n",
      "The results from the query yielded the following information:\n",
      "\n",
      "Flights from DME to BTK, VKO to HMA, VKO to AER, SVO to UFA, and SVO to ULV.\n",
      "\n",
      "Here is the answer in text format:\n",
      "\n",
      "The flights that were found are:\n",
      "\n",
      "* PG0134: DME to BTK\n",
      "* PG0052: VKO to HMA\n",
      "* PG0561: VKO to AER\n",
      "* PG0529: SVO to UFA\n",
      "* PG0461: SVO to ULV\n"
     ]
    }
   ],
   "source": [
    "question = \"what is the name of tables ?\"\n",
    "\n",
    "for step in agent_executor.stream(\n",
    "    {\"messages\": [{\"role\": \"user\", \"content\": question}]},\n",
    "    stream_mode=\"values\",\n",
    "):\n",
    "    step[\"messages\"][-1].pretty_print()"
   ]
  },
  {
   "cell_type": "code",
   "execution_count": 45,
   "metadata": {},
   "outputs": [
    {
     "name": "stdout",
     "output_type": "stream",
     "text": [
      "================================\u001b[1m Human Message \u001b[0m=================================\n",
      "\n",
      "Describe the tables of database \n",
      "==================================\u001b[1m Ai Message \u001b[0m==================================\n",
      "Tool Calls:\n",
      "  sql_db_list_tables (call_mzf5)\n",
      " Call ID: call_mzf5\n",
      "  Args:\n",
      "=================================\u001b[1m Tool Message \u001b[0m=================================\n",
      "Name: sql_db_list_tables\n",
      "\n",
      "aircrafts_data, airports_data, boarding_passes, bookings, flights, seats, ticket_flights, tickets\n",
      "==================================\u001b[1m Ai Message \u001b[0m==================================\n",
      "\n",
      "Let me examine the tables you provided.\n",
      "\n",
      "It seems like we have a database related to the aviation industry. The tables provided are:\n",
      "\n",
      "* aircrafts_data: This table likely contains information about the aircrafts used for flights, such as their models, capacities, and other relevant details.\n",
      "* airports_data: This table might contain information about the airports, such as their locations, codes, and other relevant details.\n",
      "* boarding_passes: This table probably contains information about the boarding passes issued to passengers, including details such as flight numbers, passenger names, and seat numbers.\n",
      "* bookings: This table likely contains information about the bookings made by passengers, including details such as booking dates, flight numbers, and passenger names.\n",
      "* flights: This table probably contains information about the flights, including details such as flight numbers, departure and arrival dates, and departure and arrival airports.\n",
      "* seats: This table might contain information about the seats available on a flight, including details such as seat numbers, seat types, and availability.\n",
      "* ticket_flights: This table likely contains information about the relationship between tickets and flights, including details such as ticket numbers and flight numbers.\n",
      "* tickets: This table probably contains information about the tickets issued to passengers, including details such as ticket numbers, passenger names, and ticket types.\n",
      "\n",
      "Now that we have an idea of the tables available, we can start constructing a query to answer your original question.\n"
     ]
    }
   ],
   "source": [
    "question = \"Describe the tables of database \"\n",
    "\n",
    "for step in agent_executor.stream(\n",
    "    {\"messages\": [{\"role\": \"user\", \"content\": question}]},\n",
    "    stream_mode=\"values\",\n",
    "):\n",
    "    step[\"messages\"][-1].pretty_print()"
   ]
  },
  {
   "cell_type": "code",
   "execution_count": 47,
   "metadata": {},
   "outputs": [
    {
     "name": "stdout",
     "output_type": "stream",
     "text": [
      "Let me examine the tables you provided.\n",
      "\n",
      "It seems like we have a database related to the aviation industry. The tables provided are:\n",
      "\n",
      "* aircrafts_data: This table likely contains information about the aircrafts used for flights, such as their models, capacities, and other relevant details.\n",
      "* airports_data: This table might contain information about the airports, such as their locations, codes, and other relevant details.\n",
      "* boarding_passes: This table probably contains information about the boarding passes issued to passengers, including details such as flight numbers, passenger names, and seat numbers.\n",
      "* bookings: This table likely contains information about the bookings made by passengers, including details such as booking dates, flight numbers, and passenger names.\n",
      "* flights: This table probably contains information about the flights, including details such as flight numbers, departure and arrival dates, and departure and arrival airports.\n",
      "* seats: This table might contain information about the seats available on a flight, including details such as seat numbers, seat types, and availability.\n",
      "* ticket_flights: This table likely contains information about the relationship between tickets and flights, including details such as ticket numbers and flight numbers.\n",
      "* tickets: This table probably contains information about the tickets issued to passengers, including details such as ticket numbers, passenger names, and ticket types.\n",
      "\n",
      "Now that we have an idea of the tables available, we can start constructing a query to answer your original question.\n"
     ]
    }
   ],
   "source": [
    "print(step[\"messages\"][-1].content)"
   ]
  },
  {
   "cell_type": "code",
   "execution_count": 28,
   "metadata": {},
   "outputs": [
    {
     "name": "stdout",
     "output_type": "stream",
     "text": [
      "================================\u001b[1m Human Message \u001b[0m=================================\n",
      "\n",
      "What is the total total_amount \n",
      "==================================\u001b[1m Ai Message \u001b[0m==================================\n",
      "Tool Calls:\n",
      "  sql_db_list_tables (call_8rqz)\n",
      " Call ID: call_8rqz\n",
      "  Args:\n",
      "  sql_db_schema (call_zsnw)\n",
      " Call ID: call_zsnw\n",
      "  Args:\n",
      "    table_names: \n",
      "  sql_db_query (call_p7g8)\n",
      " Call ID: call_p7g8\n",
      "  Args:\n",
      "    query: SELECT SUM(total_amount) FROM table_name\n",
      "=================================\u001b[1m Tool Message \u001b[0m=================================\n",
      "Name: sql_db_query\n",
      "\n",
      "Error: (sqlite3.OperationalError) no such table: table_name\n",
      "[SQL: SELECT SUM(total_amount) FROM table_name]\n",
      "(Background on this error at: https://sqlalche.me/e/20/e3q8)\n",
      "==================================\u001b[1m Ai Message \u001b[0m==================================\n",
      "Tool Calls:\n",
      "  sql_db_list_tables (call_r93e)\n",
      " Call ID: call_r93e\n",
      "  Args:\n",
      "  sql_db_schema (call_fsk3)\n",
      " Call ID: call_fsk3\n",
      "  Args:\n",
      "    table_names: bookings,ticket_flights\n",
      "=================================\u001b[1m Tool Message \u001b[0m=================================\n",
      "Name: sql_db_schema\n",
      "\n",
      "Error: TypeError('must be real number, not str')\n",
      " Please fix your mistakes.\n",
      "==================================\u001b[1m Ai Message \u001b[0m==================================\n",
      "Tool Calls:\n",
      "  sql_db_query (call_qxdk)\n",
      " Call ID: call_qxdk\n",
      "  Args:\n",
      "    query: SELECT SUM(total_amount) FROM bookings\n",
      "=================================\u001b[1m Tool Message \u001b[0m=================================\n",
      "Name: sql_db_query\n",
      "\n",
      "[(20766980900,)]\n",
      "==================================\u001b[1m Ai Message \u001b[0m==================================\n",
      "\n",
      "The total total_amount is 20766980900.\n"
     ]
    }
   ],
   "source": [
    "question = \"What is the total total_amount \"\n",
    "\n",
    "for step in agent_executor.stream(\n",
    "    {\"messages\": [{\"role\": \"user\", \"content\": question}]},\n",
    "    stream_mode=\"values\",\n",
    "):\n",
    "    step[\"messages\"][-1].pretty_print()"
   ]
  },
  {
   "cell_type": "code",
   "execution_count": 41,
   "metadata": {},
   "outputs": [
    {
     "data": {
      "text/plain": [
       "'The total total_amount is 20766980900.'"
      ]
     },
     "execution_count": 41,
     "metadata": {},
     "output_type": "execute_result"
    }
   ],
   "source": [
    "step[\"messages\"][-1].content"
   ]
  }
 ],
 "metadata": {
  "kernelspec": {
   "display_name": "lunfgraph",
   "language": "python",
   "name": "python3"
  },
  "language_info": {
   "codemirror_mode": {
    "name": "ipython",
    "version": 3
   },
   "file_extension": ".py",
   "mimetype": "text/x-python",
   "name": "python",
   "nbconvert_exporter": "python",
   "pygments_lexer": "ipython3",
   "version": "3.9.0"
  }
 },
 "nbformat": 4,
 "nbformat_minor": 2
}
